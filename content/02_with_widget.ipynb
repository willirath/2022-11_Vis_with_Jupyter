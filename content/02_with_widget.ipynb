{
  "metadata": {
    "language_info": {
      "codemirror_mode": {
        "name": "python",
        "version": 3
      },
      "file_extension": ".py",
      "mimetype": "text/x-python",
      "name": "python",
      "nbconvert_exporter": "python",
      "pygments_lexer": "ipython3",
      "version": "3.8"
    },
    "kernelspec": {
      "name": "python",
      "display_name": "Python (Pyodide)",
      "language": "python"
    }
  },
  "nbformat_minor": 4,
  "nbformat": 4,
  "cells": [
    {
      "cell_type": "markdown",
      "source": "# Estimating PI using random numbers",
      "metadata": {}
    },
    {
      "cell_type": "markdown",
      "source": "## Monte Carolo method\n\nThe area of a unit circle is $\\pi$:\n$$\n\\int\\limits_{x^2 + y^2 < 1.0}{\\rm d}x{\\rm d}y = \\pi\n$$\n\nWe can approximate this integral using $N$ randomly chosen positions $x$ and $y$:\n$$\n\\lim_{N\\rightarrow\\infty}\\frac{1}{N}\\sum_{n=1}^N ((x_n^2 + y_n^2) < 1) = \\pi\n$$\nwith uniform random values of $x_n\\in[-1, 1)$ and $y_n\\in[-1, 1)$.\n\nUsing rotational symmetry, we can reduce this to the quarter circle:\n$$\n4 \\cdot \\lim_{N\\rightarrow\\infty} \\frac{1}{N}\\sum_{n=1}^N ((x_n^2 + y_n^2) < 1) = \\pi\n$$\nwith uniform random values of $x_n\\in[0, 1)$ and $y_n\\in[0, 1)$.\n\nLet's check this:",
      "metadata": {}
    },
    {
      "cell_type": "code",
      "source": "import numpy as np",
      "metadata": {
        "trusted": true
      },
      "execution_count": 1,
      "outputs": []
    },
    {
      "cell_type": "markdown",
      "source": "We'll pack this into a function for easier re-use:",
      "metadata": {}
    },
    {
      "cell_type": "code",
      "source": "def estimate_pi(N=10_000):\n\n    x = np.random.uniform(size=(N, ))\n    y = np.random.uniform(size=(N, ))\n\n    r_squared = (x ** 2 + y ** 2)\n    in_circle = (r_squared < 1)\n\n    pi = 4.0 * in_circle.sum() / N\n    \n    return pi, x, y, in_circle",
      "metadata": {
        "trusted": true
      },
      "execution_count": 2,
      "outputs": []
    },
    {
      "cell_type": "code",
      "source": "for N in [100, 1_000, 100_000]:\n    print(f\"pi estimated from {N:d} random positions: {estimate_pi(N)[0]:.5f}\")",
      "metadata": {
        "trusted": true
      },
      "execution_count": 3,
      "outputs": [
        {
          "name": "stdout",
          "text": "pi estimated from 100 random positions: 3.24000\npi estimated from 1000 random positions: 3.17200\npi estimated from 100000 random positions: 3.13988\n",
          "output_type": "stream"
        }
      ]
    },
    {
      "cell_type": "markdown",
      "source": "## Visualisation\n\nHere, we'll use [Ipywidgets](https://ipywidgets.readthedocs.io/en/stable/) to add a slider for changing the number of points used in the estimate of $\\pi$.",
      "metadata": {}
    },
    {
      "cell_type": "code",
      "source": "%pip install seaborn\n%pip install ipywidgets",
      "metadata": {
        "trusted": true
      },
      "execution_count": 4,
      "outputs": []
    },
    {
      "cell_type": "code",
      "source": "from matplotlib import pyplot as plt\n\nimport seaborn as sns\nsns.set_style(\"whitegrid\")",
      "metadata": {
        "trusted": true
      },
      "execution_count": 5,
      "outputs": []
    },
    {
      "cell_type": "markdown",
      "source": "We'll also pack the plot into a function:",
      "metadata": {}
    },
    {
      "cell_type": "code",
      "source": "def plot_xy(N=1_000):\n\n    # get estimate\n    pi, x, y, in_circle = estimate_pi(N)\n   \n    # create figure\n    fig, ax = plt.subplots(1, 1)\n    \n    # choose marker size and plot \n    _s = 0.1 + int(100 / (N ** 0.5))\n    ax.scatter(x[in_circle], y[in_circle], c=\"red\", s=_s)\n    ax.scatter(x[~in_circle], y[~in_circle], c=\"blue\", s=_s)\n\n    # add labels etc.\n    ax.set_xlabel(\"x\")\n    ax.set_ylabel(\"y\")    \n    ax.set_title(f\"pi: {pi:.4f}\\nerr: {pi - np.pi:.4f}\")\n    \n    # Ensure aspect ratio\n    ax.axis(\"square\")\n    \n    # render and close\n    plt.show()\n    plt.clf()",
      "metadata": {
        "trusted": true
      },
      "execution_count": 6,
      "outputs": []
    },
    {
      "cell_type": "code",
      "source": "from ipywidgets import interactive",
      "metadata": {
        "trusted": true
      },
      "execution_count": 7,
      "outputs": []
    },
    {
      "cell_type": "code",
      "source": "interactive(plot_xy, N=(10, 100_000))",
      "metadata": {
        "trusted": true
      },
      "execution_count": 8,
      "outputs": [
        {
          "execution_count": 8,
          "output_type": "execute_result",
          "data": {
            "text/plain": "interactive(children=(IntSlider(value=1000, description='N', max=100000, min=10), Output()), _dom_classes=('wi…",
            "application/vnd.jupyter.widget-view+json": {
              "version_major": 2,
              "version_minor": 0,
              "model_id": "83ed346be26f420fa278848b77a8bde4"
            }
          },
          "metadata": {}
        }
      ]
    }
  ]
}